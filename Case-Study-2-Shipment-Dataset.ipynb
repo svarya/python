{
 "cells": [
  {
   "cell_type": "code",
   "execution_count": 1,
   "metadata": {},
   "outputs": [
    {
     "data": {
      "text/html": [
       "<div>\n",
       "<style scoped>\n",
       "    .dataframe tbody tr th:only-of-type {\n",
       "        vertical-align: middle;\n",
       "    }\n",
       "\n",
       "    .dataframe tbody tr th {\n",
       "        vertical-align: top;\n",
       "    }\n",
       "\n",
       "    .dataframe thead th {\n",
       "        text-align: right;\n",
       "    }\n",
       "</style>\n",
       "<table border=\"1\" class=\"dataframe\">\n",
       "  <thead>\n",
       "    <tr style=\"text-align: right;\">\n",
       "      <th></th>\n",
       "      <th>Row ID</th>\n",
       "      <th>Order ID</th>\n",
       "      <th>Order Date</th>\n",
       "      <th>Ship Date</th>\n",
       "      <th>Ship Mode</th>\n",
       "      <th>Customer ID</th>\n",
       "      <th>Customer Name</th>\n",
       "      <th>Segment</th>\n",
       "      <th>Country</th>\n",
       "      <th>City</th>\n",
       "      <th>...</th>\n",
       "      <th>Postal Code</th>\n",
       "      <th>Region</th>\n",
       "      <th>Product ID</th>\n",
       "      <th>Category</th>\n",
       "      <th>Sub-Category</th>\n",
       "      <th>Product Name</th>\n",
       "      <th>Sales</th>\n",
       "      <th>Quantity</th>\n",
       "      <th>Discount</th>\n",
       "      <th>Profit</th>\n",
       "    </tr>\n",
       "  </thead>\n",
       "  <tbody>\n",
       "    <tr>\n",
       "      <th>0</th>\n",
       "      <td>1</td>\n",
       "      <td>CA-2013-152156</td>\n",
       "      <td>11/9/2013</td>\n",
       "      <td>11/12/2013</td>\n",
       "      <td>Second Class</td>\n",
       "      <td>CG-12520</td>\n",
       "      <td>Claire Gute</td>\n",
       "      <td>Consumer</td>\n",
       "      <td>United States</td>\n",
       "      <td>Henderson</td>\n",
       "      <td>...</td>\n",
       "      <td>42420</td>\n",
       "      <td>South</td>\n",
       "      <td>FUR-BO-10001798</td>\n",
       "      <td>Furniture</td>\n",
       "      <td>Bookcases</td>\n",
       "      <td>Bush Somerset Collection Bookcase</td>\n",
       "      <td>261.96</td>\n",
       "      <td>2</td>\n",
       "      <td>0.0</td>\n",
       "      <td>41.9136</td>\n",
       "    </tr>\n",
       "    <tr>\n",
       "      <th>1</th>\n",
       "      <td>2</td>\n",
       "      <td>CA-2013-152156</td>\n",
       "      <td>11/9/2013</td>\n",
       "      <td>11/12/2013</td>\n",
       "      <td>Second Class</td>\n",
       "      <td>CG-12520</td>\n",
       "      <td>Claire Gute</td>\n",
       "      <td>Consumer</td>\n",
       "      <td>United States</td>\n",
       "      <td>Henderson</td>\n",
       "      <td>...</td>\n",
       "      <td>42420</td>\n",
       "      <td>South</td>\n",
       "      <td>FUR-CH-10000454</td>\n",
       "      <td>Furniture</td>\n",
       "      <td>Chairs</td>\n",
       "      <td>Hon Deluxe Fabric Upholstered Stacking Chairs,...</td>\n",
       "      <td>731.94</td>\n",
       "      <td>3</td>\n",
       "      <td>0.0</td>\n",
       "      <td>219.5820</td>\n",
       "    </tr>\n",
       "  </tbody>\n",
       "</table>\n",
       "<p>2 rows × 21 columns</p>\n",
       "</div>"
      ],
      "text/plain": [
       "   Row ID        Order ID Order Date   Ship Date     Ship Mode Customer ID  \\\n",
       "0       1  CA-2013-152156  11/9/2013  11/12/2013  Second Class    CG-12520   \n",
       "1       2  CA-2013-152156  11/9/2013  11/12/2013  Second Class    CG-12520   \n",
       "\n",
       "  Customer Name   Segment        Country       City    ...    Postal Code  \\\n",
       "0   Claire Gute  Consumer  United States  Henderson    ...          42420   \n",
       "1   Claire Gute  Consumer  United States  Henderson    ...          42420   \n",
       "\n",
       "   Region       Product ID   Category Sub-Category  \\\n",
       "0   South  FUR-BO-10001798  Furniture    Bookcases   \n",
       "1   South  FUR-CH-10000454  Furniture       Chairs   \n",
       "\n",
       "                                        Product Name   Sales  Quantity  \\\n",
       "0                  Bush Somerset Collection Bookcase  261.96         2   \n",
       "1  Hon Deluxe Fabric Upholstered Stacking Chairs,...  731.94         3   \n",
       "\n",
       "   Discount    Profit  \n",
       "0       0.0   41.9136  \n",
       "1       0.0  219.5820  \n",
       "\n",
       "[2 rows x 21 columns]"
      ]
     },
     "execution_count": 1,
     "metadata": {},
     "output_type": "execute_result"
    }
   ],
   "source": [
    "#Shipment case study:\n",
    "import numpy as np\n",
    "import pandas as pd\n",
    "from pandas import DataFrame\n",
    "import os\n",
    "store_data = 'E:/ML/datasets-master/Store.csv'\n",
    "store=pd.read_csv(store_data, sep=\",\",header=0,encoding=\"Latin\")\n",
    "store .head(2)"
   ]
  },
  {
   "cell_type": "code",
   "execution_count": 2,
   "metadata": {},
   "outputs": [
    {
     "data": {
      "text/plain": [
       "array(['Henderson', 'Los Angeles', 'Fort Lauderdale', 'Concord',\n",
       "       'Seattle', 'Fort Worth', 'Madison', 'West Jordan', 'San Francisco',\n",
       "       'Fremont', 'Philadelphia', 'Orem', 'Houston', 'Richardson',\n",
       "       'Naperville', 'Melbourne', 'Eagan', 'Westland', 'Dover',\n",
       "       'New Albany', 'New York City', 'Troy', 'Chicago', 'Gilbert',\n",
       "       'Springfield', 'Jackson', 'Memphis', 'Decatur', 'Durham',\n",
       "       'Columbia', 'Rochester', 'Minneapolis', 'Portland', 'Saint Paul',\n",
       "       'Aurora', 'Charlotte', 'Orland Park', 'Urbandale', 'Columbus',\n",
       "       'Bristol', 'Wilmington', 'Bloomington', 'Phoenix', 'Roseville',\n",
       "       'Independence', 'Pasadena', 'Newark', 'Franklin', 'Scottsdale',\n",
       "       'San Jose', 'Edmond', 'Carlsbad', 'San Antonio', 'Monroe',\n",
       "       'Fairfield', 'Grand Prairie', 'Redlands', 'Hamilton', 'Westfield',\n",
       "       'Akron', 'Denver', 'Dallas', 'Whittier', 'Saginaw', 'Medina',\n",
       "       'Dublin', 'Detroit', 'Tampa', 'Santa Clara', 'Lakeville',\n",
       "       'San Diego', 'Brentwood', 'Chapel Hill', 'Morristown',\n",
       "       'Cincinnati', 'Inglewood', 'Tamarac', 'Colorado Springs',\n",
       "       'Belleville', 'Taylor', 'Lakewood', 'Arlington', 'Arvada',\n",
       "       'Hackensack', 'Saint Petersburg', 'Long Beach', 'Hesperia',\n",
       "       'Murfreesboro', 'Layton', 'Austin', 'Lowell', 'Manchester',\n",
       "       'Harlingen', 'Tucson', 'Quincy', 'Pembroke Pines', 'Des Moines',\n",
       "       'Peoria', 'Las Vegas', 'Warwick', 'Miami', 'Huntington Beach',\n",
       "       'Richmond', 'Louisville', 'Lawrence', 'Canton', 'New Rochelle',\n",
       "       'Gastonia', 'Jacksonville', 'Auburn', 'Norman', 'Park Ridge',\n",
       "       'Amarillo', 'Lindenhurst', 'Huntsville', 'Fayetteville',\n",
       "       'Costa Mesa', 'Parker', 'Atlanta', 'Gladstone', 'Great Falls',\n",
       "       'Lakeland', 'Montgomery', 'Mesa', 'Green Bay', 'Anaheim',\n",
       "       'Marysville', 'Salem', 'Laredo', 'Grove City', 'Dearborn',\n",
       "       'Warner Robins', 'Vallejo', 'Mission Viejo', 'Rochester Hills',\n",
       "       'Plainfield', 'Sierra Vista', 'Vancouver', 'Cleveland', 'Tyler',\n",
       "       'Burlington', 'Waynesboro', 'Chester', 'Cary', 'Palm Coast',\n",
       "       'Mount Vernon', 'Hialeah', 'Oceanside', 'Evanston', 'Trenton',\n",
       "       'Cottage Grove', 'Bossier City', 'Lancaster', 'Asheville',\n",
       "       'Lake Elsinore', 'Omaha', 'Edmonds', 'Santa Ana', 'Milwaukee',\n",
       "       'Florence', 'Lorain', 'Linden', 'Salinas', 'New Brunswick',\n",
       "       'Garland', 'Norwich', 'Alexandria', 'Toledo', 'Farmington',\n",
       "       'Riverside', 'Torrance', 'Round Rock', 'Boca Raton',\n",
       "       'Virginia Beach', 'Murrieta', 'Olympia', 'Washington',\n",
       "       'Jefferson City', 'Saint Peters', 'Rockford', 'Brownsville',\n",
       "       'Yonkers', 'Oakland', 'Clinton', 'Encinitas', 'Roswell',\n",
       "       'Jonesboro', 'Antioch', 'Homestead', 'La Porte', 'Lansing',\n",
       "       'Cuyahoga Falls', 'Reno', 'Harrisonburg', 'Escondido', 'Royal Oak',\n",
       "       'Rockville', 'Coral Springs', 'Buffalo', 'Boynton Beach',\n",
       "       'Gulfport', 'Fresno', 'Greenville', 'Macon', 'Cedar Rapids',\n",
       "       'Providence', 'Pueblo', 'Deltona', 'Murray', 'Middletown',\n",
       "       'Freeport', 'Pico Rivera', 'Provo', 'Pleasant Grove', 'Smyrna',\n",
       "       'Parma', 'Mobile', 'New Bedford', 'Irving', 'Vineland', 'Glendale',\n",
       "       'Niagara Falls', 'Thomasville', 'Westminster', 'Coppell', 'Pomona',\n",
       "       'North Las Vegas', 'Allentown', 'Tempe', 'Laguna Niguel',\n",
       "       'Bridgeton', 'Everett', 'Watertown', 'Appleton', 'Bellevue',\n",
       "       'Allen', 'El Paso', 'Grapevine', 'Carrollton', 'Kent', 'Lafayette',\n",
       "       'Tigard', 'Skokie', 'Plano', 'Suffolk', 'Indianapolis', 'Bayonne',\n",
       "       'Greensboro', 'Baltimore', 'Kenosha', 'Olathe', 'Tulsa', 'Redmond',\n",
       "       'Raleigh', 'Muskogee', 'Meriden', 'Bowling Green', 'South Bend',\n",
       "       'Spokane', 'Keller', 'Port Orange', 'Medford', 'Charlottesville',\n",
       "       'Missoula', 'Apopka', 'Reading', 'Broomfield', 'Paterson',\n",
       "       'Oklahoma City', 'Chesapeake', 'Lubbock', 'Johnson City',\n",
       "       'San Bernardino', 'Leominster', 'Bozeman', 'Perth Amboy',\n",
       "       'Ontario', 'Rancho Cucamonga', 'Moorhead', 'Mesquite', 'Stockton',\n",
       "       'Ormond Beach', 'Sunnyvale', 'York', 'College Station',\n",
       "       'Saint Louis', 'Manteca', 'San Angelo', 'Salt Lake City',\n",
       "       'Knoxville', 'Little Rock', 'Lincoln Park', 'Marion', 'Littleton',\n",
       "       'Bangor', 'Southaven', 'New Castle', 'Midland', 'Sioux Falls',\n",
       "       'Fort Collins', 'Clarksville', 'Sacramento', 'Thousand Oaks',\n",
       "       'Malden', 'Holyoke', 'Albuquerque', 'Sparks', 'Coachella',\n",
       "       'Elmhurst', 'Passaic', 'North Charleston', 'Newport News',\n",
       "       'Jamestown', 'Mishawaka', 'La Quinta', 'Tallahassee', 'Nashville',\n",
       "       'Bellingham', 'Woodstock', 'Haltom City', 'Wheeling',\n",
       "       'Summerville', 'Hot Springs', 'Englewood', 'Las Cruces', 'Hoover',\n",
       "       'Frisco', 'Vacaville', 'Waukesha', 'Bakersfield', 'Pompano Beach',\n",
       "       'Corpus Christi', 'Redondo Beach', 'Orlando', 'Orange',\n",
       "       'Lake Charles', 'Highland Park', 'Hempstead', 'Noblesville',\n",
       "       'Apple Valley', 'Mount Pleasant', 'Sterling Heights', 'Eau Claire',\n",
       "       'Pharr', 'Billings', 'Gresham', 'Chattanooga', 'Meridian',\n",
       "       'Bolingbrook', 'Maple Grove', 'Woodland', 'Missouri City',\n",
       "       'Pearland', 'San Mateo', 'Grand Rapids', 'Visalia',\n",
       "       'Overland Park', 'Temecula', 'Yucaipa', 'Revere', 'Conroe',\n",
       "       'Tinley Park', 'Dubuque', 'Dearborn Heights', 'Santa Fe',\n",
       "       'Hickory', 'Carol Stream', 'Saint Cloud', 'North Miami',\n",
       "       'Plantation', 'Port Saint Lucie', 'Rock Hill', 'Odessa',\n",
       "       'West Allis', 'Chula Vista', 'Manhattan', 'Altoona', 'Thornton',\n",
       "       'Champaign', 'Texarkana', 'Edinburg', 'Baytown', 'Greenwood',\n",
       "       'Woonsocket', 'Superior', 'Bedford', 'Covington', 'Broken Arrow',\n",
       "       'Miramar', 'Hollywood', 'Deer Park', 'Wichita', 'Mcallen',\n",
       "       'Iowa City', 'Boise', 'Cranston', 'Port Arthur', 'Citrus Heights',\n",
       "       'The Colony', 'Daytona Beach', 'Bullhead City', 'Portage', 'Fargo',\n",
       "       'Elkhart', 'San Gabriel', 'Margate', 'Sandy Springs', 'Mentor',\n",
       "       'Lawton', 'Hampton', 'Rome', 'La Crosse', 'Lewiston',\n",
       "       'Hattiesburg', 'Danville', 'Logan', 'Waterbury', 'Athens',\n",
       "       'Avondale', 'Marietta', 'Yuma', 'Wausau', 'Pasco', 'Oak Park',\n",
       "       'Pensacola', 'League City', 'Gaithersburg', 'Lehi', 'Tuscaloosa',\n",
       "       'Moreno Valley', 'Georgetown', 'Loveland', 'Chandler', 'Helena',\n",
       "       'Kirkwood', 'Waco', 'Frankfort', 'Bethlehem', 'Grand Island',\n",
       "       'Woodbury', 'Rogers', 'Clovis', 'Jupiter', 'Santa Barbara',\n",
       "       'Cedar Hill', 'Norfolk', 'Draper', 'Ann Arbor', 'La Mesa',\n",
       "       'Pocatello', 'Holland', 'Milford', 'Buffalo Grove', 'Lake Forest',\n",
       "       'Redding', 'Chico', 'Utica', 'Conway', 'Cheyenne', 'Owensboro',\n",
       "       'Caldwell', 'Kenner', 'Nashua', 'Bartlett', 'Redwood City',\n",
       "       'Lebanon', 'Santa Maria', 'Des Plaines', 'Longview',\n",
       "       'Hendersonville', 'Waterloo', 'Cambridge', 'Palatine', 'Beverly',\n",
       "       'Eugene', 'Oxnard', 'Renton', 'Glenview', 'Delray Beach',\n",
       "       'Commerce City', 'Texas City', 'Wilson', 'Rio Rancho', 'Goldsboro',\n",
       "       'Montebello', 'El Cajon', 'Beaumont', 'West Palm Beach', 'Abilene',\n",
       "       'Normal', 'Saint Charles', 'Camarillo', 'Hillsboro', 'Burbank',\n",
       "       'Modesto', 'Garden City', 'Atlantic City', 'Longmont', 'Davis',\n",
       "       'Morgan Hill', 'Clifton', 'Sheboygan', 'East Point', 'Rapid City',\n",
       "       'Andover', 'Kissimmee', 'Shelton', 'Danbury', 'Sanford',\n",
       "       'San Marcos', 'Greeley', 'Mansfield', 'Elyria', 'Twin Falls',\n",
       "       'Coral Gables', 'Romeoville', 'Marlborough', 'Laurel', 'Bryan',\n",
       "       'Pine Bluff', 'Aberdeen', 'Hagerstown', 'East Orange',\n",
       "       'Arlington Heights', 'Oswego', 'Coon Rapids', 'San Clemente',\n",
       "       'San Luis Obispo', 'Springdale', 'Lodi', 'Mason'], dtype=object)"
      ]
     },
     "execution_count": 2,
     "metadata": {},
     "output_type": "execute_result"
    }
   ],
   "source": [
    "#1•\tHow many unique cities are the orders being delivered to\n",
    "store.City.unique()"
   ]
  },
  {
   "cell_type": "code",
   "execution_count": 3,
   "metadata": {},
   "outputs": [
    {
     "data": {
      "text/plain": [
       "2848"
      ]
     },
     "execution_count": 3,
     "metadata": {},
     "output_type": "execute_result"
    }
   ],
   "source": [
    "#2•\tWhat is the total quantity sold in the East Region?\n",
    "store[store.Region == 'East']['Quantity'].count()"
   ]
  },
  {
   "cell_type": "code",
   "execution_count": 4,
   "metadata": {},
   "outputs": [
    {
     "data": {
      "text/plain": [
       "10618"
      ]
     },
     "execution_count": 4,
     "metadata": {},
     "output_type": "execute_result"
    }
   ],
   "source": [
    "#3•\tFind the sum of the quantity sold in the East Region\n",
    "store[store.Region == 'East']['Quantity'].sum()"
   ]
  },
  {
   "cell_type": "code",
   "execution_count": 5,
   "metadata": {},
   "outputs": [
    {
     "data": {
      "text/html": [
       "<div>\n",
       "<style scoped>\n",
       "    .dataframe tbody tr th:only-of-type {\n",
       "        vertical-align: middle;\n",
       "    }\n",
       "\n",
       "    .dataframe tbody tr th {\n",
       "        vertical-align: top;\n",
       "    }\n",
       "\n",
       "    .dataframe thead th {\n",
       "        text-align: right;\n",
       "    }\n",
       "</style>\n",
       "<table border=\"1\" class=\"dataframe\">\n",
       "  <thead>\n",
       "    <tr style=\"text-align: right;\">\n",
       "      <th></th>\n",
       "      <th>Row ID</th>\n",
       "      <th>Order ID</th>\n",
       "      <th>Order Date</th>\n",
       "      <th>Ship Date</th>\n",
       "      <th>Ship Mode</th>\n",
       "      <th>Customer ID</th>\n",
       "      <th>Customer Name</th>\n",
       "      <th>Segment</th>\n",
       "      <th>Country</th>\n",
       "      <th>City</th>\n",
       "      <th>...</th>\n",
       "      <th>Postal Code</th>\n",
       "      <th>Region</th>\n",
       "      <th>Product ID</th>\n",
       "      <th>Category</th>\n",
       "      <th>Sub-Category</th>\n",
       "      <th>Product Name</th>\n",
       "      <th>Sales</th>\n",
       "      <th>Quantity</th>\n",
       "      <th>Discount</th>\n",
       "      <th>Profit</th>\n",
       "    </tr>\n",
       "  </thead>\n",
       "  <tbody>\n",
       "    <tr>\n",
       "      <th>2697</th>\n",
       "      <td>2698</td>\n",
       "      <td>CA-2011-145317</td>\n",
       "      <td>3/18/2011</td>\n",
       "      <td>3/23/2011</td>\n",
       "      <td>Standard Class</td>\n",
       "      <td>SM-20320</td>\n",
       "      <td>Sean Miller</td>\n",
       "      <td>Home Office</td>\n",
       "      <td>United States</td>\n",
       "      <td>Jacksonville</td>\n",
       "      <td>...</td>\n",
       "      <td>32216</td>\n",
       "      <td>South</td>\n",
       "      <td>TEC-MA-10002412</td>\n",
       "      <td>Technology</td>\n",
       "      <td>Machines</td>\n",
       "      <td>Cisco TelePresence System EX90 Videoconferenci...</td>\n",
       "      <td>22638.480</td>\n",
       "      <td>6</td>\n",
       "      <td>0.5</td>\n",
       "      <td>-1811.0784</td>\n",
       "    </tr>\n",
       "    <tr>\n",
       "      <th>8488</th>\n",
       "      <td>8489</td>\n",
       "      <td>CA-2013-158841</td>\n",
       "      <td>2/2/2013</td>\n",
       "      <td>2/4/2013</td>\n",
       "      <td>Second Class</td>\n",
       "      <td>SE-20110</td>\n",
       "      <td>Sanjit Engle</td>\n",
       "      <td>Consumer</td>\n",
       "      <td>United States</td>\n",
       "      <td>Arlington</td>\n",
       "      <td>...</td>\n",
       "      <td>22204</td>\n",
       "      <td>South</td>\n",
       "      <td>TEC-MA-10001127</td>\n",
       "      <td>Technology</td>\n",
       "      <td>Machines</td>\n",
       "      <td>HP Designjet T520 Inkjet Large Format Printer ...</td>\n",
       "      <td>8749.950</td>\n",
       "      <td>5</td>\n",
       "      <td>0.0</td>\n",
       "      <td>2799.9840</td>\n",
       "    </tr>\n",
       "    <tr>\n",
       "      <th>683</th>\n",
       "      <td>684</td>\n",
       "      <td>US-2014-168116</td>\n",
       "      <td>11/5/2014</td>\n",
       "      <td>11/5/2014</td>\n",
       "      <td>Same Day</td>\n",
       "      <td>GT-14635</td>\n",
       "      <td>Grant Thornton</td>\n",
       "      <td>Corporate</td>\n",
       "      <td>United States</td>\n",
       "      <td>Burlington</td>\n",
       "      <td>...</td>\n",
       "      <td>27217</td>\n",
       "      <td>South</td>\n",
       "      <td>TEC-MA-10004125</td>\n",
       "      <td>Technology</td>\n",
       "      <td>Machines</td>\n",
       "      <td>Cubify CubeX 3D Printer Triple Head Print</td>\n",
       "      <td>7999.980</td>\n",
       "      <td>4</td>\n",
       "      <td>0.5</td>\n",
       "      <td>-3839.9904</td>\n",
       "    </tr>\n",
       "    <tr>\n",
       "      <th>509</th>\n",
       "      <td>510</td>\n",
       "      <td>CA-2012-145352</td>\n",
       "      <td>3/16/2012</td>\n",
       "      <td>3/22/2012</td>\n",
       "      <td>Standard Class</td>\n",
       "      <td>CM-12385</td>\n",
       "      <td>Christopher Martinez</td>\n",
       "      <td>Consumer</td>\n",
       "      <td>United States</td>\n",
       "      <td>Atlanta</td>\n",
       "      <td>...</td>\n",
       "      <td>30318</td>\n",
       "      <td>South</td>\n",
       "      <td>OFF-BI-10003527</td>\n",
       "      <td>Office Supplies</td>\n",
       "      <td>Binders</td>\n",
       "      <td>Fellowes PB500 Electric Punch Plastic Comb Bin...</td>\n",
       "      <td>6354.950</td>\n",
       "      <td>5</td>\n",
       "      <td>0.0</td>\n",
       "      <td>3177.4750</td>\n",
       "    </tr>\n",
       "    <tr>\n",
       "      <th>4297</th>\n",
       "      <td>4298</td>\n",
       "      <td>CA-2014-129021</td>\n",
       "      <td>8/24/2014</td>\n",
       "      <td>8/27/2014</td>\n",
       "      <td>Second Class</td>\n",
       "      <td>PO-18850</td>\n",
       "      <td>Patrick O'Brill</td>\n",
       "      <td>Consumer</td>\n",
       "      <td>United States</td>\n",
       "      <td>Tallahassee</td>\n",
       "      <td>...</td>\n",
       "      <td>32303</td>\n",
       "      <td>South</td>\n",
       "      <td>TEC-PH-10001459</td>\n",
       "      <td>Technology</td>\n",
       "      <td>Phones</td>\n",
       "      <td>Samsung Galaxy Mega 6.3</td>\n",
       "      <td>4367.896</td>\n",
       "      <td>13</td>\n",
       "      <td>0.2</td>\n",
       "      <td>327.5922</td>\n",
       "    </tr>\n",
       "  </tbody>\n",
       "</table>\n",
       "<p>5 rows × 21 columns</p>\n",
       "</div>"
      ],
      "text/plain": [
       "      Row ID        Order ID Order Date  Ship Date       Ship Mode  \\\n",
       "2697    2698  CA-2011-145317  3/18/2011  3/23/2011  Standard Class   \n",
       "8488    8489  CA-2013-158841   2/2/2013   2/4/2013    Second Class   \n",
       "683      684  US-2014-168116  11/5/2014  11/5/2014        Same Day   \n",
       "509      510  CA-2012-145352  3/16/2012  3/22/2012  Standard Class   \n",
       "4297    4298  CA-2014-129021  8/24/2014  8/27/2014    Second Class   \n",
       "\n",
       "     Customer ID         Customer Name      Segment        Country  \\\n",
       "2697    SM-20320           Sean Miller  Home Office  United States   \n",
       "8488    SE-20110          Sanjit Engle     Consumer  United States   \n",
       "683     GT-14635        Grant Thornton    Corporate  United States   \n",
       "509     CM-12385  Christopher Martinez     Consumer  United States   \n",
       "4297    PO-18850       Patrick O'Brill     Consumer  United States   \n",
       "\n",
       "              City    ...     Postal Code  Region       Product ID  \\\n",
       "2697  Jacksonville    ...           32216   South  TEC-MA-10002412   \n",
       "8488     Arlington    ...           22204   South  TEC-MA-10001127   \n",
       "683     Burlington    ...           27217   South  TEC-MA-10004125   \n",
       "509        Atlanta    ...           30318   South  OFF-BI-10003527   \n",
       "4297   Tallahassee    ...           32303   South  TEC-PH-10001459   \n",
       "\n",
       "             Category Sub-Category  \\\n",
       "2697       Technology     Machines   \n",
       "8488       Technology     Machines   \n",
       "683        Technology     Machines   \n",
       "509   Office Supplies      Binders   \n",
       "4297       Technology       Phones   \n",
       "\n",
       "                                           Product Name      Sales  Quantity  \\\n",
       "2697  Cisco TelePresence System EX90 Videoconferenci...  22638.480         6   \n",
       "8488  HP Designjet T520 Inkjet Large Format Printer ...   8749.950         5   \n",
       "683           Cubify CubeX 3D Printer Triple Head Print   7999.980         4   \n",
       "509   Fellowes PB500 Electric Punch Plastic Comb Bin...   6354.950         5   \n",
       "4297                            Samsung Galaxy Mega 6.3   4367.896        13   \n",
       "\n",
       "      Discount     Profit  \n",
       "2697       0.5 -1811.0784  \n",
       "8488       0.0  2799.9840  \n",
       "683        0.5 -3839.9904  \n",
       "509        0.0  3177.4750  \n",
       "4297       0.2   327.5922  \n",
       "\n",
       "[5 rows x 21 columns]"
      ]
     },
     "execution_count": 5,
     "metadata": {},
     "output_type": "execute_result"
    }
   ],
   "source": [
    "#4.•In the south region sort the sales in decreasing order\n",
    "s1 = store[store.Region == 'South']\n",
    "s1.sort_values(ascending=False,by='Sales') .head(5)"
   ]
  },
  {
   "cell_type": "code",
   "execution_count": 6,
   "metadata": {},
   "outputs": [
    {
     "data": {
      "text/plain": [
       "Region\n",
       "Central    3.779595\n",
       "East       3.728230\n",
       "South      3.832716\n",
       "West       3.829535\n",
       "Name: Quantity, dtype: float64"
      ]
     },
     "execution_count": 6,
     "metadata": {},
     "output_type": "execute_result"
    }
   ],
   "source": [
    "#5 Find the mean of quantity for every region\n",
    "store.groupby('Region').mean().Quantity"
   ]
  },
  {
   "cell_type": "code",
   "execution_count": 7,
   "metadata": {},
   "outputs": [
    {
     "data": {
      "text/plain": [
       "Category\n",
       "Furniture          349.834887\n",
       "Office Supplies    119.324101\n",
       "Technology         452.709276\n",
       "Name: Sales, dtype: float64"
      ]
     },
     "execution_count": 7,
     "metadata": {},
     "output_type": "execute_result"
    }
   ],
   "source": [
    "#•6 Find the mean of sales for every category\n",
    "store.groupby('Category') .mean() .Sales"
   ]
  },
  {
   "cell_type": "code",
   "execution_count": 8,
   "metadata": {},
   "outputs": [
    {
     "data": {
      "text/plain": [
       "Category\n",
       "Furniture           4416.174\n",
       "Office Supplies     9892.740\n",
       "Technology         22638.480\n",
       "Name: Sales, dtype: float64"
      ]
     },
     "execution_count": 8,
     "metadata": {},
     "output_type": "execute_result"
    }
   ],
   "source": [
    "# 7.a. Find the max, min, sum of sales and profit for every category\n",
    "store.groupby('Category') .max() .Sales"
   ]
  },
  {
   "cell_type": "code",
   "execution_count": 9,
   "metadata": {},
   "outputs": [
    {
     "data": {
      "text/plain": [
       "Category\n",
       "Furniture          1.892\n",
       "Office Supplies    0.444\n",
       "Technology         0.990\n",
       "Name: Sales, dtype: float64"
      ]
     },
     "execution_count": 9,
     "metadata": {},
     "output_type": "execute_result"
    }
   ],
   "source": [
    "# 7.b. Find the max, min, sum of sales and profit for every category\n",
    "store.groupby('Category') .min() .Sales"
   ]
  },
  {
   "cell_type": "code",
   "execution_count": 10,
   "metadata": {},
   "outputs": [
    {
     "data": {
      "text/plain": [
       "Category\n",
       "Furniture          741999.7953\n",
       "Office Supplies    719047.0320\n",
       "Technology         836154.0330\n",
       "Name: Sales, dtype: float64"
      ]
     },
     "execution_count": 10,
     "metadata": {},
     "output_type": "execute_result"
    }
   ],
   "source": [
    "# 7.c. Find the max, min, sum of sales and profit for every category\n",
    "store.groupby('Category') .sum() .Sales"
   ]
  },
  {
   "cell_type": "code",
   "execution_count": 11,
   "metadata": {},
   "outputs": [
    {
     "data": {
      "text/html": [
       "<div>\n",
       "<style scoped>\n",
       "    .dataframe tbody tr th:only-of-type {\n",
       "        vertical-align: middle;\n",
       "    }\n",
       "\n",
       "    .dataframe tbody tr th {\n",
       "        vertical-align: top;\n",
       "    }\n",
       "\n",
       "    .dataframe thead th {\n",
       "        text-align: right;\n",
       "    }\n",
       "</style>\n",
       "<table border=\"1\" class=\"dataframe\">\n",
       "  <thead>\n",
       "    <tr style=\"text-align: right;\">\n",
       "      <th></th>\n",
       "      <th>Sales</th>\n",
       "      <th>Profit</th>\n",
       "    </tr>\n",
       "    <tr>\n",
       "      <th>Segment</th>\n",
       "      <th></th>\n",
       "      <th></th>\n",
       "    </tr>\n",
       "  </thead>\n",
       "  <tbody>\n",
       "    <tr>\n",
       "      <th>Consumer</th>\n",
       "      <td>1.161401e+06</td>\n",
       "      <td>6719.9808</td>\n",
       "    </tr>\n",
       "    <tr>\n",
       "      <th>Corporate</th>\n",
       "      <td>7.061464e+05</td>\n",
       "      <td>8399.9760</td>\n",
       "    </tr>\n",
       "    <tr>\n",
       "      <th>Home Office</th>\n",
       "      <td>4.296531e+05</td>\n",
       "      <td>3919.9888</td>\n",
       "    </tr>\n",
       "  </tbody>\n",
       "</table>\n",
       "</div>"
      ],
      "text/plain": [
       "                    Sales     Profit\n",
       "Segment                             \n",
       "Consumer     1.161401e+06  6719.9808\n",
       "Corporate    7.061464e+05  8399.9760\n",
       "Home Office  4.296531e+05  3919.9888"
      ]
     },
     "execution_count": 11,
     "metadata": {},
     "output_type": "execute_result"
    }
   ],
   "source": [
    "store.groupby('Segment') .agg({'Sales':np.sum, 'Profit': np.max})"
   ]
  },
  {
   "cell_type": "code",
   "execution_count": 12,
   "metadata": {},
   "outputs": [
    {
     "data": {
      "text/html": [
       "<div>\n",
       "<style scoped>\n",
       "    .dataframe tbody tr th:only-of-type {\n",
       "        vertical-align: middle;\n",
       "    }\n",
       "\n",
       "    .dataframe tbody tr th {\n",
       "        vertical-align: top;\n",
       "    }\n",
       "\n",
       "    .dataframe thead tr th {\n",
       "        text-align: left;\n",
       "    }\n",
       "\n",
       "    .dataframe thead tr:last-of-type th {\n",
       "        text-align: right;\n",
       "    }\n",
       "</style>\n",
       "<table border=\"1\" class=\"dataframe\">\n",
       "  <thead>\n",
       "    <tr>\n",
       "      <th></th>\n",
       "      <th colspan=\"2\" halign=\"left\">Sales</th>\n",
       "      <th colspan=\"2\" halign=\"left\">Profit</th>\n",
       "    </tr>\n",
       "    <tr>\n",
       "      <th></th>\n",
       "      <th>max</th>\n",
       "      <th>sum</th>\n",
       "      <th>max</th>\n",
       "      <th>sum</th>\n",
       "    </tr>\n",
       "    <tr>\n",
       "      <th>Segment</th>\n",
       "      <th></th>\n",
       "      <th></th>\n",
       "      <th></th>\n",
       "      <th></th>\n",
       "    </tr>\n",
       "  </thead>\n",
       "  <tbody>\n",
       "    <tr>\n",
       "      <th>Consumer</th>\n",
       "      <td>13999.96</td>\n",
       "      <td>1.161401e+06</td>\n",
       "      <td>6719.9808</td>\n",
       "      <td>134119.2092</td>\n",
       "    </tr>\n",
       "    <tr>\n",
       "      <th>Corporate</th>\n",
       "      <td>17499.95</td>\n",
       "      <td>7.061464e+05</td>\n",
       "      <td>8399.9760</td>\n",
       "      <td>91979.1340</td>\n",
       "    </tr>\n",
       "    <tr>\n",
       "      <th>Home Office</th>\n",
       "      <td>22638.48</td>\n",
       "      <td>4.296531e+05</td>\n",
       "      <td>3919.9888</td>\n",
       "      <td>60298.6785</td>\n",
       "    </tr>\n",
       "  </tbody>\n",
       "</table>\n",
       "</div>"
      ],
      "text/plain": [
       "                Sales                   Profit             \n",
       "                  max           sum        max          sum\n",
       "Segment                                                    \n",
       "Consumer     13999.96  1.161401e+06  6719.9808  134119.2092\n",
       "Corporate    17499.95  7.061464e+05  8399.9760   91979.1340\n",
       "Home Office  22638.48  4.296531e+05  3919.9888   60298.6785"
      ]
     },
     "execution_count": 12,
     "metadata": {},
     "output_type": "execute_result"
    }
   ],
   "source": [
    "store.groupby('Segment') [['Sales','Profit']] .agg(['max','sum'])"
   ]
  },
  {
   "cell_type": "code",
   "execution_count": 13,
   "metadata": {},
   "outputs": [
    {
     "data": {
      "text/plain": [
       "Segment\n",
       "Consumer       0.158141\n",
       "Corporate      0.158228\n",
       "Home Office    0.147128\n",
       "Name: Discount, dtype: float64"
      ]
     },
     "execution_count": 13,
     "metadata": {},
     "output_type": "execute_result"
    }
   ],
   "source": [
    "#9.•\tFor every segment find the mean of the discount\n",
    "store.groupby('Segment') .mean() .Discount"
   ]
  },
  {
   "cell_type": "code",
   "execution_count": 14,
   "metadata": {},
   "outputs": [
    {
     "data": {
      "text/html": [
       "<div>\n",
       "<style scoped>\n",
       "    .dataframe tbody tr th:only-of-type {\n",
       "        vertical-align: middle;\n",
       "    }\n",
       "\n",
       "    .dataframe tbody tr th {\n",
       "        vertical-align: top;\n",
       "    }\n",
       "\n",
       "    .dataframe thead th {\n",
       "        text-align: right;\n",
       "    }\n",
       "</style>\n",
       "<table border=\"1\" class=\"dataframe\">\n",
       "  <thead>\n",
       "    <tr style=\"text-align: right;\">\n",
       "      <th></th>\n",
       "      <th>Customer Name</th>\n",
       "      <th>Segment</th>\n",
       "      <th>Profit</th>\n",
       "    </tr>\n",
       "  </thead>\n",
       "  <tbody>\n",
       "    <tr>\n",
       "      <th>2623</th>\n",
       "      <td>Tom Ashbrook</td>\n",
       "      <td>Home Office</td>\n",
       "      <td>3919.9888</td>\n",
       "    </tr>\n",
       "    <tr>\n",
       "      <th>6826</th>\n",
       "      <td>Tamara Chand</td>\n",
       "      <td>Corporate</td>\n",
       "      <td>8399.9760</td>\n",
       "    </tr>\n",
       "    <tr>\n",
       "      <th>8153</th>\n",
       "      <td>Raymond Buch</td>\n",
       "      <td>Consumer</td>\n",
       "      <td>6719.9808</td>\n",
       "    </tr>\n",
       "  </tbody>\n",
       "</table>\n",
       "</div>"
      ],
      "text/plain": [
       "     Customer Name      Segment     Profit\n",
       "2623  Tom Ashbrook  Home Office  3919.9888\n",
       "6826  Tamara Chand    Corporate  8399.9760\n",
       "8153  Raymond Buch     Consumer  6719.9808"
      ]
     },
     "execution_count": 14,
     "metadata": {},
     "output_type": "execute_result"
    }
   ],
   "source": [
    "#10. •\tFor every segment find the most profitable customers\n",
    "a=[store.groupby('Segment') .max() .Profit]\n",
    "b=[store.Profit]\n",
    "store[[\"Customer Name\",\"Segment\",\"Profit\"]][np.in1d(b,a)]"
   ]
  },
  {
   "cell_type": "code",
   "execution_count": 15,
   "metadata": {},
   "outputs": [
    {
     "data": {
      "text/plain": [
       "Sub-Category\n",
       "Accessories     829.3754\n",
       "Appliances      793.7160\n",
       "Art             112.5740\n",
       "Binders        4946.3700\n",
       "Bookcases      1013.1270\n",
       "Name: Profit, dtype: float64"
      ]
     },
     "execution_count": 15,
     "metadata": {},
     "output_type": "execute_result"
    }
   ],
   "source": [
    "#11•\tWhat are the top 5 categories that give maximum profit?\n",
    "store.groupby('Sub-Category') .max() .Profit .head(5)"
   ]
  },
  {
   "cell_type": "code",
   "execution_count": 16,
   "metadata": {},
   "outputs": [
    {
     "data": {
      "text/html": [
       "<div>\n",
       "<style scoped>\n",
       "    .dataframe tbody tr th:only-of-type {\n",
       "        vertical-align: middle;\n",
       "    }\n",
       "\n",
       "    .dataframe tbody tr th {\n",
       "        vertical-align: top;\n",
       "    }\n",
       "\n",
       "    .dataframe thead tr th {\n",
       "        text-align: left;\n",
       "    }\n",
       "\n",
       "    .dataframe thead tr:last-of-type th {\n",
       "        text-align: right;\n",
       "    }\n",
       "</style>\n",
       "<table border=\"1\" class=\"dataframe\">\n",
       "  <thead>\n",
       "    <tr>\n",
       "      <th></th>\n",
       "      <th>Sales</th>\n",
       "      <th>Quantity</th>\n",
       "      <th>Discount</th>\n",
       "      <th>Profit</th>\n",
       "    </tr>\n",
       "    <tr>\n",
       "      <th></th>\n",
       "      <th>sum</th>\n",
       "      <th>sum</th>\n",
       "      <th>sum</th>\n",
       "      <th>sum</th>\n",
       "    </tr>\n",
       "    <tr>\n",
       "      <th>Country</th>\n",
       "      <th></th>\n",
       "      <th></th>\n",
       "      <th></th>\n",
       "      <th></th>\n",
       "    </tr>\n",
       "  </thead>\n",
       "  <tbody>\n",
       "    <tr>\n",
       "      <th>United States</th>\n",
       "      <td>2.297201e+06</td>\n",
       "      <td>37873</td>\n",
       "      <td>1561.09</td>\n",
       "      <td>286397.0217</td>\n",
       "    </tr>\n",
       "  </tbody>\n",
       "</table>\n",
       "</div>"
      ],
      "text/plain": [
       "                      Sales Quantity Discount       Profit\n",
       "                        sum      sum      sum          sum\n",
       "Country                                                   \n",
       "United States  2.297201e+06    37873  1561.09  286397.0217"
      ]
     },
     "execution_count": 16,
     "metadata": {},
     "output_type": "execute_result"
    }
   ],
   "source": [
    "#12•\tWhat is the Total Sales, Quantity, Discount, Profit across Total US.\n",
    "store.groupby('Country') [['Sales','Quantity','Discount', 'Profit']] .agg(['sum'])"
   ]
  },
  {
   "cell_type": "code",
   "execution_count": 17,
   "metadata": {},
   "outputs": [
    {
     "data": {
      "text/plain": [
       "1822"
      ]
     },
     "execution_count": 17,
     "metadata": {},
     "output_type": "execute_result"
    }
   ],
   "source": [
    "#13.•\tHow many times has it taken more than 5 days from placing an order to shipping\n",
    "store['Order Date']=pd.to_datetime(store['Order Date'])\n",
    "store['Ship Date']=pd.to_datetime(store['Ship Date'])\n",
    "#store Order Date\n",
    "count=((store['Ship Date'] - store['Order Date']) > \"5 days\")\n",
    "count1=((store['Ship Date'] - store['Order Date']) < \"5 days\")\n",
    "sum(count==True)"
   ]
  },
  {
   "cell_type": "code",
   "execution_count": 18,
   "metadata": {},
   "outputs": [
    {
     "data": {
      "text/plain": [
       "Category\n",
       "Furniture           365\n",
       "Office Supplies    1131\n",
       "Technology          326\n",
       "Name: Order ID, dtype: int64"
      ]
     },
     "execution_count": 18,
     "metadata": {},
     "output_type": "execute_result"
    }
   ],
   "source": [
    "#14.•\tFind the total number of orders in every category which has been shipped with a duration > 5 days\n",
    "store['diff_date']=(store['Ship Date'] - store['Order Date'])\n",
    "store[store.diff_date > '5 days'].groupby('Category')['Order ID'] .count()"
   ]
  },
  {
   "cell_type": "code",
   "execution_count": 19,
   "metadata": {},
   "outputs": [
    {
     "data": {
      "text/plain": [
       "Category\n",
       "Furniture           365\n",
       "Office Supplies    1131\n",
       "Technology          326\n",
       "Name: Customer ID, dtype: int64"
      ]
     },
     "execution_count": 19,
     "metadata": {},
     "output_type": "execute_result"
    }
   ],
   "source": [
    "store[(store['Ship Date']-store['Order Date'])>'5 days'].groupby('Category')['Customer ID'].count()"
   ]
  },
  {
   "cell_type": "code",
   "execution_count": 20,
   "metadata": {},
   "outputs": [
    {
     "name": "stdout",
     "output_type": "stream",
     "text": [
      "81.76906143686212\n"
     ]
    }
   ],
   "source": [
    "#15.•\tWhat’s the percentage of items which has been shipped within 5 days\n",
    "count1=sum((store['Ship Date'] - store['Order Date']) <= \"5 days\")\n",
    "total=store.Sales .count()\n",
    "per=(count1/total)*100\n",
    "print(per)"
   ]
  },
  {
   "cell_type": "code",
   "execution_count": 21,
   "metadata": {},
   "outputs": [
    {
     "name": "stdout",
     "output_type": "stream",
     "text": [
      "18.230938563137883\n"
     ]
    }
   ],
   "source": [
    "#16.•\tWhat’s the percentage of items which has been shipped after 5 days\n",
    "count2=sum((store['Ship Date'] - store['Order Date']) > \"5 days\")\n",
    "total=store.Sales .count()\n",
    "per=(count2/total)*100\n",
    "print(per)"
   ]
  },
  {
   "cell_type": "code",
   "execution_count": null,
   "metadata": {},
   "outputs": [],
   "source": []
  }
 ],
 "metadata": {
  "kernelspec": {
   "display_name": "Python 3",
   "language": "python",
   "name": "python3"
  },
  "language_info": {
   "codemirror_mode": {
    "name": "ipython",
    "version": 3
   },
   "file_extension": ".py",
   "mimetype": "text/x-python",
   "name": "python",
   "nbconvert_exporter": "python",
   "pygments_lexer": "ipython3",
   "version": "3.6.4"
  }
 },
 "nbformat": 4,
 "nbformat_minor": 2
}
