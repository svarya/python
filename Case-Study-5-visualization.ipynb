{
 "cells": [
  {
   "cell_type": "code",
   "execution_count": 51,
   "metadata": {},
   "outputs": [],
   "source": [
    "import pandas as pd\n",
    "import numpy as np\n",
    "from matplotlib import pyplot as plt\n",
    "import seaborn as sns\n",
    "%matplotlib inline\n",
    "import os\n",
    "import warnings\n",
    "warnings.filterwarnings('ignore')"
   ]
  },
  {
   "cell_type": "code",
   "execution_count": 52,
   "metadata": {},
   "outputs": [],
   "source": [
    "os.chdir(\"E:/Data-Visualazation/Data Set/rajanand-crime-in-india\")"
   ]
  },
  {
   "cell_type": "code",
   "execution_count": 53,
   "metadata": {},
   "outputs": [],
   "source": [
    "sll01 = pd.read_csv(\"07_02_Persons_arrested_by_sex_and_age_group_SLL_2012.csv\")\n",
    "sll02 = pd.read_csv(\"07_02_Persons_arrested_by_sex_and_age_group_SLL_2013.csv\")\n",
    "sll03 = pd.read_csv(\"07_02_Persons_arrested_by_sex_and_age_group_SLL_2014.csv\")\n",
    "\n",
    "ipc01 = pd.read_csv(\"07_01_Persons_arrested_by_sex_and_age_group_IPC_2012.csv\")\n",
    "ipc02 = pd.read_csv(\"07_01_Persons_arrested_by_sex_and_age_group_IPC_2013.csv\")\n",
    "ipc03 = pd.read_csv(\"07_01_Persons_arrested_by_sex_and_age_group_IPC_2014.csv\")"
   ]
  },
  {
   "cell_type": "code",
   "execution_count": 54,
   "metadata": {},
   "outputs": [],
   "source": [
    "sll01 = sll01[['STATE/UT','CRIME HEAD','Male Below 18 Years','Female Below 18 Years','Female Total']]\n",
    "sll02 = sll02[['STATE/UT','CRIME HEAD','Male Below 18 Years','Female Below 18 Years','Female Total']]\n",
    "sll03 = sll03[['States/UTs','Crime Head','Year','Total Female']]"
   ]
  },
  {
   "cell_type": "code",
   "execution_count": 55,
   "metadata": {},
   "outputs": [],
   "source": [
    "sll01['Women'] = sll01['Female Total'] - sll01['Female Below 18 Years']\n",
    "sll02['Women'] = sll02['Female Total'] - sll02['Female Below 18 Years']\n",
    "sll01['Year'] = 2012\n",
    "sll02['Year'] = 2013\n",
    "sll03['Male Below 18 Years'] = np.nan\n",
    "sll03['Female Below 18 Years'] = np.nan\n",
    "sll01.drop(['Female Total'],axis=1,inplace=True)\n",
    "sll02.drop(['Female Total'],axis=1,inplace=True)\n",
    "sll03['Women'] = sll03['Total Female']\n",
    "sll03.rename(columns={'States/UTs':'STATE/UT','Crime Head':'CRIME HEAD'},inplace=True)\n",
    "sll03 = sll03[['STATE/UT','CRIME HEAD','Male Below 18 Years','Female Below 18 Years','Women','Year']]"
   ]
  },
  {
   "cell_type": "code",
   "execution_count": 56,
   "metadata": {},
   "outputs": [],
   "source": [
    "ipc01['Adult Women'] = ipc01['Female Total'] - ipc01['Female Below 18 Years']\n",
    "ipc01['Year'] = 2012\n",
    "ipc02['Adult Women'] = ipc02['Female Total'] - ipc02['Female Below 18 Years']\n",
    "ipc02['Year'] = 2012\n",
    "ipc03['Adult Women'] = ipc03['Total Female']\n",
    "ipc03['Female Below 18 Years'] = np.nan\n",
    "ipc03['Male Below 18 Years'] = np.nan\n",
    "ipc03['STATE/UT'] = ipc03['States/UTs']\n",
    "ipc03['CRIME HEAD'] = ipc03['Crime Head']"
   ]
  },
  {
   "cell_type": "code",
   "execution_count": 57,
   "metadata": {},
   "outputs": [],
   "source": [
    "ipc01 = ipc01[['STATE/UT','CRIME HEAD','Year','Female Below 18 Years','Male Below 18 Years','Adult Women']]\n",
    "ipc02 = ipc02[['STATE/UT','CRIME HEAD','Year','Female Below 18 Years','Male Below 18 Years','Adult Women']]\n",
    "ipc03 = ipc03[['STATE/UT','CRIME HEAD','Year','Female Below 18 Years','Male Below 18 Years','Adult Women']]"
   ]
  },
  {
   "cell_type": "code",
   "execution_count": 58,
   "metadata": {},
   "outputs": [
    {
     "data": {
      "text/html": [
       "<div>\n",
       "<style scoped>\n",
       "    .dataframe tbody tr th:only-of-type {\n",
       "        vertical-align: middle;\n",
       "    }\n",
       "\n",
       "    .dataframe tbody tr th {\n",
       "        vertical-align: top;\n",
       "    }\n",
       "\n",
       "    .dataframe thead th {\n",
       "        text-align: right;\n",
       "    }\n",
       "</style>\n",
       "<table border=\"1\" class=\"dataframe\">\n",
       "  <thead>\n",
       "    <tr style=\"text-align: right;\">\n",
       "      <th></th>\n",
       "      <th>STATE/UT</th>\n",
       "      <th>CRIME HEAD</th>\n",
       "      <th>Year</th>\n",
       "      <th>Female Below 18 Years</th>\n",
       "      <th>Male Below 18 Years</th>\n",
       "      <th>Adult Women</th>\n",
       "    </tr>\n",
       "  </thead>\n",
       "  <tbody>\n",
       "    <tr>\n",
       "      <th>0</th>\n",
       "      <td>ANDHRA PRADESH</td>\n",
       "      <td>MURDER (SECTION 302 IPC)</td>\n",
       "      <td>2012</td>\n",
       "      <td>3</td>\n",
       "      <td>65</td>\n",
       "      <td>517</td>\n",
       "    </tr>\n",
       "    <tr>\n",
       "      <th>1</th>\n",
       "      <td>ARUNACHAL PRADESH</td>\n",
       "      <td>MURDER (SECTION 302 IPC)</td>\n",
       "      <td>2012</td>\n",
       "      <td>0</td>\n",
       "      <td>0</td>\n",
       "      <td>2</td>\n",
       "    </tr>\n",
       "    <tr>\n",
       "      <th>2</th>\n",
       "      <td>ASSAM</td>\n",
       "      <td>MURDER (SECTION 302 IPC)</td>\n",
       "      <td>2012</td>\n",
       "      <td>0</td>\n",
       "      <td>38</td>\n",
       "      <td>44</td>\n",
       "    </tr>\n",
       "    <tr>\n",
       "      <th>3</th>\n",
       "      <td>BIHAR</td>\n",
       "      <td>MURDER (SECTION 302 IPC)</td>\n",
       "      <td>2012</td>\n",
       "      <td>5</td>\n",
       "      <td>60</td>\n",
       "      <td>339</td>\n",
       "    </tr>\n",
       "    <tr>\n",
       "      <th>4</th>\n",
       "      <td>CHHATTISGARH</td>\n",
       "      <td>MURDER (SECTION 302 IPC)</td>\n",
       "      <td>2012</td>\n",
       "      <td>5</td>\n",
       "      <td>64</td>\n",
       "      <td>110</td>\n",
       "    </tr>\n",
       "  </tbody>\n",
       "</table>\n",
       "</div>"
      ],
      "text/plain": [
       "            STATE/UT                CRIME HEAD  Year  Female Below 18 Years  \\\n",
       "0     ANDHRA PRADESH  MURDER (SECTION 302 IPC)  2012                      3   \n",
       "1  ARUNACHAL PRADESH  MURDER (SECTION 302 IPC)  2012                      0   \n",
       "2              ASSAM  MURDER (SECTION 302 IPC)  2012                      0   \n",
       "3              BIHAR  MURDER (SECTION 302 IPC)  2012                      5   \n",
       "4       CHHATTISGARH  MURDER (SECTION 302 IPC)  2012                      5   \n",
       "\n",
       "   Male Below 18 Years  Adult Women  \n",
       "0                   65          517  \n",
       "1                    0            2  \n",
       "2                   38           44  \n",
       "3                   60          339  \n",
       "4                   64          110  "
      ]
     },
     "execution_count": 58,
     "metadata": {},
     "output_type": "execute_result"
    }
   ],
   "source": [
    "ipc01.head()"
   ]
  },
  {
   "cell_type": "code",
   "execution_count": 59,
   "metadata": {},
   "outputs": [],
   "source": [
    "def uppercase(df):\n",
    "    val = list()\n",
    "    for i in df:\n",
    "        val.append(str(i).upper())\n",
    "    return(val)\n",
    "\n",
    "#val1 = list()\n",
    "#val2 = list()\n",
    "#val3 = list()\n",
    "#for i in ipc03['STATE/UT']:\n",
    "#    val1.append(str(i).upper())\n",
    "#for i in sll03['STATE/UT']:\n",
    "#    val2.append(str(i).upper())\n",
    "#for i in sll02['STATE/UT']:\n",
    "#    val3.append(str(i).upper())\n",
    " \n",
    "\n",
    "ipc02['STATE/UT'] = uppercase(ipc02['STATE/UT'])\n",
    "ipc03['STATE/UT'] = uppercase(ipc03['STATE/UT'])\n",
    "sll03['STATE/UT'] = uppercase(sll03['STATE/UT'])\n",
    "sll02['STATE/UT'] = uppercase(sll02['STATE/UT'])"
   ]
  },
  {
   "cell_type": "code",
   "execution_count": 60,
   "metadata": {},
   "outputs": [],
   "source": [
    "ipc = ipc01.append(ipc02)\n",
    "ipc = ipc.append(ipc03)\n",
    "\n",
    "sll = sll01.append(sll02)\n",
    "sll = sll.append(sll03)"
   ]
  },
  {
   "cell_type": "code",
   "execution_count": 61,
   "metadata": {},
   "outputs": [
    {
     "name": "stdout",
     "output_type": "stream",
     "text": [
      "(5712, 6)\n",
      "(4782, 6)\n"
     ]
    }
   ],
   "source": [
    "print(ipc.shape)\n",
    "print(sll.shape)"
   ]
  },
  {
   "cell_type": "code",
   "execution_count": 62,
   "metadata": {},
   "outputs": [],
   "source": [
    "# sll2 = sll[sll['STATE/UT'] != ['TOTAL (UTS)','TOTAL (ALL-INDIA)','TOTAL (STATE)','TOTAL (STATES)','TOTAL (ALL INDIA)']]\n",
    "sll2 = sll.loc[~sll['STATE/UT'].isin(['TOTAL (UTS)','TOTAL (UTs)','TOTAL (ALL-INDIA)','TOTAL (STATE)','TOTAL (STATES)','TOTAL (ALL INDIA)'])]"
   ]
  },
  {
   "cell_type": "code",
   "execution_count": 63,
   "metadata": {},
   "outputs": [
    {
     "data": {
      "text/html": [
       "<div>\n",
       "<style scoped>\n",
       "    .dataframe tbody tr th:only-of-type {\n",
       "        vertical-align: middle;\n",
       "    }\n",
       "\n",
       "    .dataframe tbody tr th {\n",
       "        vertical-align: top;\n",
       "    }\n",
       "\n",
       "    .dataframe thead th {\n",
       "        text-align: right;\n",
       "    }\n",
       "</style>\n",
       "<table border=\"1\" class=\"dataframe\">\n",
       "  <thead>\n",
       "    <tr style=\"text-align: right;\">\n",
       "      <th></th>\n",
       "      <th>STATE/UT</th>\n",
       "      <th>CRIME HEAD</th>\n",
       "      <th>Male Below 18 Years</th>\n",
       "      <th>Female Below 18 Years</th>\n",
       "      <th>Women</th>\n",
       "      <th>Year</th>\n",
       "    </tr>\n",
       "  </thead>\n",
       "  <tbody>\n",
       "    <tr>\n",
       "      <th>0</th>\n",
       "      <td>ANDHRA PRADESH</td>\n",
       "      <td>ARMS ACT</td>\n",
       "      <td>4.0</td>\n",
       "      <td>0.0</td>\n",
       "      <td>0</td>\n",
       "      <td>2012</td>\n",
       "    </tr>\n",
       "    <tr>\n",
       "      <th>1</th>\n",
       "      <td>ARUNACHAL PRADESH</td>\n",
       "      <td>ARMS ACT</td>\n",
       "      <td>0.0</td>\n",
       "      <td>0.0</td>\n",
       "      <td>0</td>\n",
       "      <td>2012</td>\n",
       "    </tr>\n",
       "    <tr>\n",
       "      <th>2</th>\n",
       "      <td>ASSAM</td>\n",
       "      <td>ARMS ACT</td>\n",
       "      <td>2.0</td>\n",
       "      <td>0.0</td>\n",
       "      <td>3</td>\n",
       "      <td>2012</td>\n",
       "    </tr>\n",
       "    <tr>\n",
       "      <th>3</th>\n",
       "      <td>BIHAR</td>\n",
       "      <td>ARMS ACT</td>\n",
       "      <td>25.0</td>\n",
       "      <td>0.0</td>\n",
       "      <td>19</td>\n",
       "      <td>2012</td>\n",
       "    </tr>\n",
       "    <tr>\n",
       "      <th>4</th>\n",
       "      <td>CHHATTISGARH</td>\n",
       "      <td>ARMS ACT</td>\n",
       "      <td>17.0</td>\n",
       "      <td>0.0</td>\n",
       "      <td>0</td>\n",
       "      <td>2012</td>\n",
       "    </tr>\n",
       "  </tbody>\n",
       "</table>\n",
       "</div>"
      ],
      "text/plain": [
       "            STATE/UT CRIME HEAD  Male Below 18 Years  Female Below 18 Years  \\\n",
       "0     ANDHRA PRADESH   ARMS ACT                  4.0                    0.0   \n",
       "1  ARUNACHAL PRADESH   ARMS ACT                  0.0                    0.0   \n",
       "2              ASSAM   ARMS ACT                  2.0                    0.0   \n",
       "3              BIHAR   ARMS ACT                 25.0                    0.0   \n",
       "4       CHHATTISGARH   ARMS ACT                 17.0                    0.0   \n",
       "\n",
       "   Women  Year  \n",
       "0      0  2012  \n",
       "1      0  2012  \n",
       "2      3  2012  \n",
       "3     19  2012  \n",
       "4      0  2012  "
      ]
     },
     "execution_count": 63,
     "metadata": {},
     "output_type": "execute_result"
    }
   ],
   "source": [
    "sll2.head()"
   ]
  },
  {
   "cell_type": "code",
   "execution_count": 64,
   "metadata": {},
   "outputs": [],
   "source": [
    "sll2['Child'] = sll2['Male Below 18 Years'] + sll2['Female Below 18 Years']"
   ]
  },
  {
   "cell_type": "code",
   "execution_count": 65,
   "metadata": {},
   "outputs": [],
   "source": [
    "sll_child = sll2.groupby(['STATE/UT']).sum()['Child']\n",
    "state = list(sll_child.index)\n",
    "child_crim = list(sll_child.values)\n",
    "child_dict = ({'State':state,'Child Criminals':child_crim})\n",
    "sll_child = pd.DataFrame(child_dict)"
   ]
  },
  {
   "cell_type": "code",
   "execution_count": 66,
   "metadata": {},
   "outputs": [
    {
     "data": {
      "text/plain": [
       "[Text(0,0,'TAMIL NADU'),\n",
       " Text(0,0,'GUJARAT'),\n",
       " Text(0,0,'MAHARASHTRA'),\n",
       " Text(0,0,'MADHYA PRADESH'),\n",
       " Text(0,0,'CHHATTISGARH'),\n",
       " Text(0,0,'BIHAR'),\n",
       " Text(0,0,'HARYANA'),\n",
       " Text(0,0,'RAJASTHAN'),\n",
       " Text(0,0,'UTTAR PRADESH'),\n",
       " Text(0,0,'WEST BENGAL')]"
      ]
     },
     "execution_count": 66,
     "metadata": {},
     "output_type": "execute_result"
    },
    {
     "data": {
      "image/png": "[encoded data removed]",
      "text/plain": [
       "<matplotlib.figure.Figure at 0x22cc4a6db00>"
      ]
     },
     "metadata": {},
     "output_type": "display_data"
    }
   ],
   "source": [
    "child_sll_plot = sns.barplot(x='State',y='Child Criminals',data=sll_child.sort_values('Child Criminals',ascending=False).head(10))\n",
    "child_sll_plot = child_sll_plot.set_xticklabels(child_sll_plot.get_xticklabels(),rotation=30)\n",
    "child_sll_plot"
   ]
  },
  {
   "cell_type": "code",
   "execution_count": 67,
   "metadata": {},
   "outputs": [
    {
     "name": "stdout",
     "output_type": "stream",
     "text": [
      "                State  Women Criminals\n",
      "0       A & N ISLANDS             1074\n",
      "1         A&N ISLANDS              464\n",
      "2      ANDHRA PRADESH            12289\n",
      "3   ARUNACHAL PRADESH               76\n",
      "4               ASSAM              104\n",
      "5               BIHAR             6381\n",
      "6          CHANDIGARH              246\n",
      "7        CHHATTISGARH             5388\n",
      "8        D & N HAVELI               18\n",
      "9          D&N HAVELI               16\n",
      "10        DAMAN & DIU              115\n",
      "11              DELHI              864\n",
      "12           DELHI UT             1170\n",
      "13                GOA              849\n",
      "14            GUJARAT           501379\n",
      "15            HARYANA             1608\n",
      "16   HIMACHAL PRADESH             1305\n",
      "17    JAMMU & KASHMIR              293\n",
      "18          JHARKHAND             2764\n",
      "19          KARNATAKA            12921\n",
      "20             KERALA             5237\n",
      "21        LAKSHADWEEP                2\n",
      "22     MADHYA PRADESH            18525\n",
      "23        MAHARASHTRA            54009\n",
      "24            MANIPUR              754\n",
      "25          MEGHALAYA              113\n",
      "26            MIZORAM             1000\n",
      "27           NAGALAND              282\n",
      "28             ODISHA             7314\n",
      "29         PUDUCHERRY               95\n",
      "30             PUNJAB             9894\n",
      "31          RAJASTHAN             4837\n",
      "32             SIKKIM              179\n",
      "33         TAMIL NADU           234184\n",
      "34          TELANGANA             5556\n",
      "35            TRIPURA               56\n",
      "36      UTTAR PRADESH            16309\n",
      "37        UTTARAKHAND             1286\n",
      "38        WEST BENGAL             5002\n"
     ]
    }
   ],
   "source": [
    "sll_women = sll2.groupby(['STATE/UT']).sum()['Women']\n",
    "state = list(sll_women.index)\n",
    "women_crim = list(sll_women.values)\n",
    "women_dict = ({'State':state,'Women Criminals':women_crim})\n",
    "sll_women = pd.DataFrame(women_dict)\n",
    "print(sll_women)"
   ]
  },
  {
   "cell_type": "code",
   "execution_count": 68,
   "metadata": {},
   "outputs": [
    {
     "data": {
      "text/plain": [
       "[Text(0,0,'GUJARAT'),\n",
       " Text(0,0,'TAMIL NADU'),\n",
       " Text(0,0,'MAHARASHTRA'),\n",
       " Text(0,0,'MADHYA PRADESH'),\n",
       " Text(0,0,'UTTAR PRADESH'),\n",
       " Text(0,0,'KARNATAKA'),\n",
       " Text(0,0,'ANDHRA PRADESH'),\n",
       " Text(0,0,'PUNJAB'),\n",
       " Text(0,0,'ODISHA'),\n",
       " Text(0,0,'BIHAR')]"
      ]
     },
     "execution_count": 68,
     "metadata": {},
     "output_type": "execute_result"
    },
    {
     "data": {
      "image/png": "[encoded data removed]",
      "text/plain": [
       "<matplotlib.figure.Figure at 0x22cc4b480f0>"
      ]
     },
     "metadata": {},
     "output_type": "display_data"
    }
   ],
   "source": [
    "women_sll_plot = sns.barplot(x='State',y='Women Criminals',data=sll_women.sort_values('Women Criminals',ascending=False).head(10))\n",
    "women_sll_plot = women_sll_plot.set_xticklabels(women_sll_plot.get_xticklabels(),rotation=30)\n",
    "women_sll_plot"
   ]
  },
  {
   "cell_type": "code",
   "execution_count": 69,
   "metadata": {},
   "outputs": [],
   "source": [
    "ipc2 = ipc.loc[~ipc['STATE/UT'].isin(['TOTAL (UTs)','TOTAL (ALL-INDIA)', 'TOTAL (STATES)','TOTAL (STATE)','TOTAL (UTS)', 'TELANGANA', 'TOTAL (ALL INDIA)'])]"
   ]
  },
  {
   "cell_type": "code",
   "execution_count": 70,
   "metadata": {},
   "outputs": [
    {
     "data": {
      "text/plain": [
       "array(['ANDHRA PRADESH', 'ARUNACHAL PRADESH', 'ASSAM', 'BIHAR',\n",
       "       'CHHATTISGARH', 'GOA', 'GUJARAT', 'HARYANA', 'HIMACHAL PRADESH',\n",
       "       'JAMMU & KASHMIR', 'JHARKHAND', 'KARNATAKA', 'KERALA',\n",
       "       'MADHYA PRADESH', 'MAHARASHTRA', 'MANIPUR', 'MEGHALAYA', 'MIZORAM',\n",
       "       'NAGALAND', 'ODISHA', 'PUNJAB', 'RAJASTHAN', 'SIKKIM',\n",
       "       'TAMIL NADU', 'TRIPURA', 'UTTAR PRADESH', 'UTTARAKHAND',\n",
       "       'WEST BENGAL', 'A & N ISLANDS', 'CHANDIGARH', 'D & N HAVELI',\n",
       "       'DAMAN & DIU', 'DELHI', 'LAKSHADWEEP', 'PUDUCHERRY', 'A&N ISLANDS',\n",
       "       'D&N HAVELI', 'DELHI UT'], dtype=object)"
      ]
     },
     "execution_count": 70,
     "metadata": {},
     "output_type": "execute_result"
    }
   ],
   "source": [
    "ipc2['STATE/UT'].unique()"
   ]
  },
  {
   "cell_type": "code",
   "execution_count": 71,
   "metadata": {},
   "outputs": [
    {
     "data": {
      "text/plain": [
       "Index(['STATE/UT', 'CRIME HEAD', 'Year', 'Female Below 18 Years',\n",
       "       'Male Below 18 Years', 'Adult Women'],\n",
       "      dtype='object')"
      ]
     },
     "execution_count": 71,
     "metadata": {},
     "output_type": "execute_result"
    }
   ],
   "source": [
    "ipc2.columns"
   ]
  },
  {
   "cell_type": "code",
   "execution_count": 72,
   "metadata": {},
   "outputs": [],
   "source": [
    "ipc2['Child'] = ipc2['Female Below 18 Years'] + ipc2['Male Below 18 Years']"
   ]
  },
  {
   "cell_type": "code",
   "execution_count": 73,
   "metadata": {},
   "outputs": [],
   "source": [
    "ipc_child = ipc2.groupby(['STATE/UT']).sum()['Child']\n",
    "state = list(ipc_child.index)\n",
    "child_crim = list(ipc_child.values)\n",
    "child_dict = ({'State':state,'Child Criminals':child_crim})\n",
    "ipc_child = pd.DataFrame(child_dict)"
   ]
  },
  {
   "cell_type": "code",
   "execution_count": 74,
   "metadata": {},
   "outputs": [],
   "source": [
    "ipc_women = ipc2.groupby(['STATE/UT']).sum()['Adult Women']\n",
    "state = list(ipc_women.index)\n",
    "women_crim = list(ipc_women.values)\n",
    "women_dict = ({'State':state,'Women Criminals':women_crim})\n",
    "ipc_women = pd.DataFrame(women_dict)"
   ]
  },
  {
   "cell_type": "code",
   "execution_count": 75,
   "metadata": {},
   "outputs": [
    {
     "data": {
      "text/plain": [
       "[Text(0,0,'MAHARASHTRA'),\n",
       " Text(0,0,'MADHYA PRADESH'),\n",
       " Text(0,0,'ANDHRA PRADESH'),\n",
       " Text(0,0,'RAJASTHAN'),\n",
       " Text(0,0,'BIHAR'),\n",
       " Text(0,0,'CHHATTISGARH'),\n",
       " Text(0,0,'GUJARAT'),\n",
       " Text(0,0,'TAMIL NADU'),\n",
       " Text(0,0,'UTTAR PRADESH'),\n",
       " Text(0,0,'DELHI UT')]"
      ]
     },
     "execution_count": 75,
     "metadata": {},
     "output_type": "execute_result"
    },
    {
     "data": {
      "image/png": "[encoded data removed]",
      "text/plain": [
       "<matplotlib.figure.Figure at 0x22cc471dc88>"
      ]
     },
     "metadata": {},
     "output_type": "display_data"
    }
   ],
   "source": [
    "child_ipc_plot = sns.barplot(x='State',y='Child Criminals',data=ipc_child.sort_values('Child Criminals',ascending=False).head(10))\n",
    "child_ipc_plot = child_ipc_plot.set_xticklabels(child_ipc_plot.get_xticklabels(),rotation=30)\n",
    "child_ipc_plot"
   ]
  },
  {
   "cell_type": "code",
   "execution_count": 76,
   "metadata": {},
   "outputs": [
    {
     "data": {
      "text/plain": [
       "[Text(0,0,'MAHARASHTRA'),\n",
       " Text(0,0,'MADHYA PRADESH'),\n",
       " Text(0,0,'ANDHRA PRADESH'),\n",
       " Text(0,0,'WEST BENGAL'),\n",
       " Text(0,0,'TAMIL NADU'),\n",
       " Text(0,0,'GUJARAT'),\n",
       " Text(0,0,'BIHAR'),\n",
       " Text(0,0,'UTTAR PRADESH'),\n",
       " Text(0,0,'RAJASTHAN'),\n",
       " Text(0,0,'KARNATAKA')]"
      ]
     },
     "execution_count": 76,
     "metadata": {},
     "output_type": "execute_result"
    },
    {
     "data": {
      "image/png": "[encoded data removed]",
      "text/plain": [
       "<matplotlib.figure.Figure at 0x22cc435e9e8>"
      ]
     },
     "metadata": {},
     "output_type": "display_data"
    }
   ],
   "source": [
    "women_ipc_plot = sns.barplot(x='State',y='Women Criminals',data=ipc_women.sort_values('Women Criminals',ascending=False).head(10))\n",
    "women_ipc_plot = women_ipc_plot.set_xticklabels(women_ipc_plot.get_xticklabels(),rotation=30)\n",
    "women_ipc_plot"
   ]
  },
  {
   "cell_type": "code",
   "execution_count": null,
   "metadata": {},
   "outputs": [],
   "source": []
  }
 ],
 "metadata": {
  "kernelspec": {
   "display_name": "Python 3",
   "language": "python",
   "name": "python3"
  }
 },
 "nbformat": 4,
 "nbformat_minor": 2
}
