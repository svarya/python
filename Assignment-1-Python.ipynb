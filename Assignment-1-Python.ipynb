{
 "cells": [
  {
   "cell_type": "code",
   "execution_count": 1,
   "metadata": {},
   "outputs": [
    {
     "name": "stdout",
     "output_type": "stream",
     "text": [
      "Enter the number value:23\n",
      "4.795831523312719\n"
     ]
    }
   ],
   "source": [
    "#1.\tWrite a program find square root of a number.\n",
    "\n",
    "def sqrt(c):\n",
    "    d=c**(1/2)\n",
    "    print(d)\n",
    "\n",
    "try:\n",
    "    a=int(input(\"Enter the number value:\"))\n",
    "    d=a**(1/2)\n",
    "    print(d)\n",
    "except:\n",
    "    print('Please enter a number')\n"
   ]
  },
  {
   "cell_type": "code",
   "execution_count": 2,
   "metadata": {},
   "outputs": [
    {
     "name": "stdout",
     "output_type": "stream",
     "text": [
      "Enter the ist value:23\n",
      "Enter the 2nd value:24\n",
      "Enter the 3rd value:34\n",
      "275.71\n"
     ]
    }
   ],
   "source": [
    "#2.\tPython Program to find the area of triangle\n",
    "\n",
    "def tarea(a,b,c):\n",
    "    s=(a+b+c)/2\n",
    "    area = (s*(s-a)*(s-b)*(s-c)) ** 0.5\n",
    "    print(area)\n",
    "\n",
    "\n",
    "try:\n",
    "    a=int(input(\"Enter the ist value:\"))\n",
    "    b=int(input(\"Enter the 2nd value:\"))\n",
    "    c=int(input(\"Enter the 3rd value:\"))\n",
    "    s=(a+b+c)/2\n",
    "    area = (s*(s-a)*(s-b)*(s-c)) ** 0.5\n",
    "    print(round(area,2))\n",
    "    \n",
    "except:\n",
    "    print('Please enter a number')\n",
    "\n"
   ]
  },
  {
   "cell_type": "code",
   "execution_count": 3,
   "metadata": {},
   "outputs": [
    {
     "name": "stdout",
     "output_type": "stream",
     "text": [
      "Enter value of first variable: 23\n",
      "Enter value of second variable: 34\n",
      "34 23\n"
     ]
    }
   ],
   "source": [
    "#3.\tPython program to swap two variables provided by the user without temporary variable\n",
    "\n",
    "a=int(input(\"Enter value of first variable: \"))\n",
    "b=int(input(\"Enter value of second variable: \"))\n",
    "a,b=b,a\n",
    "print(a,b)\n"
   ]
  },
  {
   "cell_type": "code",
   "execution_count": 6,
   "metadata": {},
   "outputs": [],
   "source": [
    "#4.\tPython program to check if the input year is a leap year or not\n",
    "\n",
    "def leap_year(year):\n",
    "    if (year % 4 == 0 and year % 100 != 0) or year % 400 == 0:\n",
    "        print(year,\"is a leap year\")\n",
    "    else:\n",
    "        print(year,\"is not a leap year\")\n"
   ]
  },
  {
   "cell_type": "code",
   "execution_count": 8,
   "metadata": {},
   "outputs": [
    {
     "name": "stdout",
     "output_type": "stream",
     "text": [
      "2012 is a leap year\n"
     ]
    }
   ],
   "source": [
    "leap_year(2012)\n"
   ]
  },
  {
   "cell_type": "code",
   "execution_count": 10,
   "metadata": {},
   "outputs": [
    {
     "name": "stdout",
     "output_type": "stream",
     "text": [
      "nth term of fibonacci series6\n",
      "0\n",
      "1\n",
      "1\n",
      "2\n",
      "3\n",
      "5\n"
     ]
    }
   ],
   "source": [
    "#5. Program to display the Fibonacci sequence up to n-th term where n is provided by the user\n",
    "\n",
    "n=int(input(\"nth term of fibonacci series\"))\n",
    "a=0\n",
    "b=1\n",
    "temp=0\n",
    "i=1\n",
    "while i<=n:\n",
    "    print(a)\n",
    "    temp=b\n",
    "    b=a+b\n",
    "    a=temp\n",
    "    i=i+1\n"
   ]
  },
  {
   "cell_type": "code",
   "execution_count": 11,
   "metadata": {},
   "outputs": [
    {
     "name": "stdout",
     "output_type": "stream",
     "text": [
      "Enter a number: 234\n",
      "234 is not an Armstrong number\n"
     ]
    }
   ],
   "source": [
    "#6. Python program to check if the number provided by the user is an Armstrong number or not\n",
    "   \t   \n",
    "num = int(input(\"Enter a number: \"))  \n",
    "sum = 0  \n",
    "temp = num  \n",
    "  \n",
    "while temp > 0:  \n",
    "   digit = temp % 10  \n",
    "   sum += digit ** 3  \n",
    "   temp //= 10  \n",
    "  \n",
    "if num == sum:  \n",
    "   print(num,\"is an Armstrong number\")  \n",
    "else:  \n",
    "   print(num,\"is not an Armstrong number\")\n"
   ]
  },
  {
   "cell_type": "code",
   "execution_count": 13,
   "metadata": {},
   "outputs": [
    {
     "name": "stdout",
     "output_type": "stream",
     "text": [
      "How many terms? 5\n",
      "2 raised to power 0 is 1\n",
      "2 raised to power 1 is 2\n",
      "2 raised to power 2 is 4\n",
      "2 raised to power 3 is 8\n",
      "2 raised to power 4 is 16\n"
     ]
    }
   ],
   "source": [
    "#7. Python Program to display the powers of 2 using anonymous function\n",
    "\n",
    "terms = int(input(\"How many terms? \"))\n",
    "result = list(map(lambda x: 2 ** x, range(terms)))\n",
    "for i in range(terms):\n",
    "    print(\"2 raised to power\",i,\"is\",result[i])\n"
   ]
  },
  {
   "cell_type": "code",
   "execution_count": null,
   "metadata": {},
   "outputs": [],
   "source": []
  }
 ],
 "metadata": {
  "kernelspec": {
   "display_name": "Python 3",
   "language": "python",
   "name": "python3"
  },
  "language_info": {
   "codemirror_mode": {
    "name": "ipython",
    "version": 3
   },
   "file_extension": ".py",
   "mimetype": "text/x-python",
   "name": "python",
   "nbconvert_exporter": "python",
   "pygments_lexer": "ipython3",
   "version": "3.6.4"
  }
 },
 "nbformat": 4,
 "nbformat_minor": 2
}
